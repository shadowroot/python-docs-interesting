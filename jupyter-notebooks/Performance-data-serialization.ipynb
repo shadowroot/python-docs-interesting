{
 "cells": [
  {
   "cell_type": "code",
   "execution_count": null,
   "metadata": {},
   "outputs": [],
   "source": [
    "import msgpack\n",
    "import ujsom\n",
    "import pickle\n",
    "import bson\n",
    "import json\n",
    "import protobuf\n",
    "import parquet\n",
    "\n",
    "import cProfile\n",
    "import logging\n",
    "import random\n",
    "\n",
    "logging.basicConfig(level=logging.INFO)\n",
    "__fuzzer__ = logging.getLogger(\"fuzzer\")\n",
    "\n"
   ]
  }
 ],
 "metadata": {
  "kernelspec": {
   "display_name": "Python 3",
   "language": "python",
   "name": "python3"
  },
  "language_info": {
   "codemirror_mode": {
    "name": "ipython",
    "version": 3
   },
   "file_extension": ".py",
   "mimetype": "text/x-python",
   "name": "python",
   "nbconvert_exporter": "python",
   "pygments_lexer": "ipython3",
   "version": "3.6.9"
  }
 },
 "nbformat": 4,
 "nbformat_minor": 2
}