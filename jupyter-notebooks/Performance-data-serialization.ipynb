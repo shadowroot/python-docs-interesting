{
 "cells": [
  {
   "cell_type": "code",
   "execution_count": 7,
   "metadata": {},
   "outputs": [
    {
     "name": "stderr",
     "output_type": "stream",
     "text": [
      "INFO:fuzzer:Generated data for testing: {}\n"
     ]
    },
    {
     "ename": "AttributeError",
     "evalue": "__enter__",
     "output_type": "error",
     "traceback": [
      "\u001b[0;31m---------------------------------------------------------------------------\u001b[0m",
      "\u001b[0;31mAttributeError\u001b[0m                            Traceback (most recent call last)",
      "\u001b[0;32m<ipython-input-7-b7a695a78f5a>\u001b[0m in \u001b[0;36m<module>\u001b[0;34m\u001b[0m\n\u001b[1;32m     74\u001b[0m     \u001b[0;32massert\u001b[0m \u001b[0mdeserialized_data\u001b[0m \u001b[0;34m==\u001b[0m \u001b[0mdata\u001b[0m\u001b[0;34m\u001b[0m\u001b[0;34m\u001b[0m\u001b[0m\n\u001b[1;32m     75\u001b[0m \u001b[0;34m\u001b[0m\u001b[0m\n\u001b[0;32m---> 76\u001b[0;31m \u001b[0mpickle_test\u001b[0m\u001b[0;34m(\u001b[0m\u001b[0mdata\u001b[0m\u001b[0;34m)\u001b[0m\u001b[0;34m\u001b[0m\u001b[0;34m\u001b[0m\u001b[0m\n\u001b[0m\u001b[1;32m     77\u001b[0m \u001b[0mujson_test\u001b[0m\u001b[0;34m(\u001b[0m\u001b[0mdata\u001b[0m\u001b[0;34m)\u001b[0m\u001b[0;34m\u001b[0m\u001b[0;34m\u001b[0m\u001b[0m\n\u001b[1;32m     78\u001b[0m \u001b[0mjson_test\u001b[0m\u001b[0;34m(\u001b[0m\u001b[0mdata\u001b[0m\u001b[0;34m)\u001b[0m\u001b[0;34m\u001b[0m\u001b[0;34m\u001b[0m\u001b[0m\n",
      "\u001b[0;32m<ipython-input-7-b7a695a78f5a>\u001b[0m in \u001b[0;36mwrapper\u001b[0;34m(*args, **kwargs)\u001b[0m\n\u001b[1;32m     27\u001b[0m     \u001b[0;32mdef\u001b[0m \u001b[0mwrapper\u001b[0m\u001b[0;34m(\u001b[0m\u001b[0;34m*\u001b[0m\u001b[0margs\u001b[0m\u001b[0;34m,\u001b[0m \u001b[0;34m**\u001b[0m\u001b[0mkwargs\u001b[0m\u001b[0;34m)\u001b[0m\u001b[0;34m:\u001b[0m\u001b[0;34m\u001b[0m\u001b[0;34m\u001b[0m\u001b[0m\n\u001b[1;32m     28\u001b[0m         \u001b[0mt_start\u001b[0m \u001b[0;34m=\u001b[0m \u001b[0;32mNone\u001b[0m\u001b[0;34m\u001b[0m\u001b[0;34m\u001b[0m\u001b[0m\n\u001b[0;32m---> 29\u001b[0;31m         \u001b[0;32mwith\u001b[0m \u001b[0mcProfile\u001b[0m\u001b[0;34m.\u001b[0m\u001b[0mProfile\u001b[0m\u001b[0;34m(\u001b[0m\u001b[0;34m)\u001b[0m \u001b[0;32mas\u001b[0m \u001b[0mpr\u001b[0m\u001b[0;34m:\u001b[0m\u001b[0;34m\u001b[0m\u001b[0;34m\u001b[0m\u001b[0m\n\u001b[0m\u001b[1;32m     30\u001b[0m             \u001b[0mt_start\u001b[0m \u001b[0;34m=\u001b[0m \u001b[0mtime\u001b[0m\u001b[0;34m.\u001b[0m\u001b[0mtime\u001b[0m\u001b[0;34m(\u001b[0m\u001b[0;34m)\u001b[0m\u001b[0;34m\u001b[0m\u001b[0;34m\u001b[0m\u001b[0m\n\u001b[1;32m     31\u001b[0m             \u001b[0mret\u001b[0m \u001b[0;34m=\u001b[0m \u001b[0mf\u001b[0m\u001b[0;34m(\u001b[0m\u001b[0;34m*\u001b[0m\u001b[0margs\u001b[0m\u001b[0;34m,\u001b[0m \u001b[0;34m**\u001b[0m\u001b[0mkwargs\u001b[0m\u001b[0;34m)\u001b[0m\u001b[0;34m\u001b[0m\u001b[0;34m\u001b[0m\u001b[0m\n",
      "\u001b[0;31mAttributeError\u001b[0m: __enter__"
     ]
    }
   ],
   "source": [
    "import msgpack\n",
    "import ujson\n",
    "import pickle\n",
    "import bson\n",
    "import json\n",
    "#import protobuf\n",
    "#import parquet\n",
    "\n",
    "import logging\n",
    "import random\n",
    "import functools\n",
    "import time\n",
    "\n",
    "import cProfile, pstats, io\n",
    "\n",
    "from fuzzer.fuzzer import DataFuzzer\n",
    "\n",
    "\n",
    "logging.basicConfig(level=logging.INFO)\n",
    "__fuzzer__ = logging.getLogger(\"fuzzer\")\n",
    "__profiler__ = logging.getLogger(\"profiler\")\n",
    "__timer__ = logging.getLogger(\"timer\")\n",
    "\n",
    "def profiler_decorator(f):\n",
    "\n",
    "    @functools.wraps(f)\n",
    "    def wrapper(*args, **kwargs):\n",
    "        t_start = None\n",
    "        with cProfile.Profile() as pr:\n",
    "            t_start = time.time()\n",
    "            ret = f(*args, **kwargs)\n",
    "        s = io.StringIO()\n",
    "        sortby = \"cumulative\"\n",
    "        ps = pstats.Stats(pr, stream=s).sort_stats(sortby)\n",
    "        ps.print_stats()\n",
    "        __timer__.info(\"Timer for {}: {} s\".format(f,time.time()-t_start))\n",
    "        __profiler__.info(\"Profiler for {}: {}\".format(f,s.getvalue()))\n",
    "        return ret\n",
    "\n",
    "    return wrapper\n",
    "\n",
    "datagenerator = DataFuzzer(_type=\"dict\", _depth=200, _size=1024*1024)\n",
    "data = datagenerator.generate_dict()\n",
    "__fuzzer__.info(\"Generated data for testing: {}\".format(data))\n",
    "\n",
    "@profiler_decorator\n",
    "def pickle_test(data):\n",
    "    serialized_data = pickle.dumps(data)\n",
    "    deserialized_data = pickle.loads(serialized_data)\n",
    "    assert deserialized_data == data\n",
    "\n",
    "@profiler_decorator\n",
    "def ujson_test(data):\n",
    "    serialized_data = ujson.dumps(data)\n",
    "    deserialized_data = ujson.loads(serialized_data)\n",
    "    assert deserialized_data == data\n",
    "\n",
    "@profiler_decorator\n",
    "def json_test(data):\n",
    "    serialized_data = json.dumps(data)\n",
    "    deserialized_data = json.loads(serialized_data)\n",
    "    assert deserialized_data == data\n",
    "        \n",
    "@profiler_decorator\n",
    "def msgpack_test(data):\n",
    "    serialized_data = msgpack.packb(data, use_bin_type=True)\n",
    "    deserialized_data = msgpack.unpackb(serialized_data, raw=False)\n",
    "    assert deserialized_data == data\n",
    "\n",
    "@profiler_decorator\n",
    "def bson_test(data):\n",
    "    serialized_data = bson.dumps(data)\n",
    "    deserialized_data = bson.loads(serialized_data)\n",
    "    assert deserialized_data == data\n",
    "\n",
    "pickle_test(data)\n",
    "ujson_test(data)\n",
    "json_test(data)\n",
    "msgpack_test(data)\n",
    "bson_test(data)\n",
    "\n",
    "#@profiler_decorator\n",
    "#def parquet_test(data):\n",
    "#    serialized_data = json.dumps(data)\n",
    "#    deserialized_data = json.loads(serialized_data)\n",
    "#    assert deserialized_data == data\n"
   ]
  },
  {
   "cell_type": "code",
   "execution_count": null,
   "metadata": {},
   "outputs": [],
   "source": []
  },
  {
   "cell_type": "code",
   "execution_count": null,
   "metadata": {},
   "outputs": [],
   "source": []
  }
 ],
 "metadata": {
  "kernelspec": {
   "display_name": "Python 3",
   "language": "python",
   "name": "python3"
  },
  "language_info": {
   "codemirror_mode": {
    "name": "ipython",
    "version": 3
   },
   "file_extension": ".py",
   "mimetype": "text/x-python",
   "name": "python",
   "nbconvert_exporter": "python",
   "pygments_lexer": "ipython3",
   "version": "3.6.9"
  }
 },
 "nbformat": 4,
 "nbformat_minor": 2
}
